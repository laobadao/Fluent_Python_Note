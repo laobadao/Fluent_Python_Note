{
 "cells": [
  {
   "cell_type": "markdown",
   "metadata": {},
   "source": [
    "# Fluent Python | Notes-01-Data model\n",
    "\n",
    "**转载请注明作者和出处：ZJ 微信公众号-「SelfImprovementLab」**\n",
    "\n",
    "    本系列为「Fluent Python」学习笔记，仅添加个人理解，不足或有误还请指正。\n",
    "    \n",
    "    [CSDN]()：\n",
    "   \n",
    "---"
   ]
  },
  {
   "cell_type": "markdown",
   "metadata": {},
   "source": [
    "## 1.1 A Pythonic Card Deck\n",
    "\n",
    "1.Python 最好的品质之一是一致性。\n",
    "\n",
    "2.Python 解释器碰到特殊的句法时，会使用特殊方法去激活一些基本的对象操作，这些特殊方法的名字以两个下划线开头，以两个下划线结尾（例__getitem__）。比如 obj[key]的背后就是 __getitem__ 方法，为了能求得 my_collection[key] 的值，解释器实际上会调用 my_collection.__getitem__(key)。\n",
    "\n",
    "3.提到 __getitem__ 这个特殊方法的时候,称为 双下－getitem”（dunder-getitem）这种说法。\n",
    "\n",
    "**一摞Python风格的纸牌**\n",
    "\n",
    "接下来我会用一个非常简单的例子来展示如何实现 __getitme__ 和__len__ 这两个特殊方法，通过这个例子我们也能见识到特殊方法的强大。\n"
   ]
  },
  {
   "cell_type": "code",
   "execution_count": 1,
   "metadata": {},
   "outputs": [],
   "source": [
    "\"\"\"\n",
    "Chapter one :\n",
    "Python Data Model\n",
    "\n",
    "Author:\n",
    "    ZJ\n",
    "\n",
    "一摞有序的纸牌\n",
    "\n",
    "\"\"\"\n",
    "import collections\n",
    "\n",
    "# 用 collections.namedtuple 构造简单的 纸牌 类\n",
    "# collections.namedtuple 用以构建只有少数属性但是没有方法的对象，比如数据库条目。\n",
    "Card = collections.namedtuple('Card', ['rank', 'suit'])\n",
    "\n",
    "\n",
    "class FrenchDeck:\n",
    "    ranks = [str(n) for n in range(2, 11)] + list('JQKA')\n",
    "    suits = 'spades diamonds clubs hearts'.split()\n",
    "\n",
    "    def __init__(self):\n",
    "        self._cards = [Card(rank, suit) for suit in self.suits\n",
    "                       for rank in self.ranks]\n",
    "\n",
    "    def __len__(self):\n",
    "        return len(self._cards)\n",
    "\n",
    "    def __getitem__(self, position):\n",
    "        return self._cards[position]\n"
   ]
  },
  {
   "cell_type": "markdown",
   "metadata": {},
   "source": [
    "用 collections.namedtuple 构建了一个简单的类来表示一张纸牌。\n",
    "\n",
    "自 Python 2.6 开始，namedtuple 就加入到 Python 里，用以构建只有少数属性但是没有方法的对象，比如数据库条目。如下面这个控制台会话所示，利用 namedtuple，我们可以很轻松地得到一个纸牌对象：\n",
    "\n",
    "注意： 若在 cmd 中执行语句，则先定位到当前路径下：\n",
    "\n",
    " D:\\github\\python\\Fluent_Python_Note\\fluent_python\\01-data-model > python\n",
    " \n",
    " 当前路径下执行，可以写相对路径，否则 需要写绝对路径。"
   ]
  },
  {
   "cell_type": "code",
   "execution_count": 4,
   "metadata": {},
   "outputs": [
    {
     "name": "stdout",
     "output_type": "stream",
     "text": [
      "Card(rank='7', suit='diamonds')\n"
     ]
    }
   ],
   "source": [
    "import collections\n",
    "\n",
    "Card = collections.namedtuple('Card', ['rank', 'suit'])\n",
    "beer_card = Card('7', 'diamonds')\n",
    "print(beer_card)"
   ]
  },
  {
   "cell_type": "markdown",
   "metadata": {},
   "source": [
    "---\n",
    " \n",
    "**PS: 欢迎扫码关注公众号：「SelfImprovementLab」！专注「深度学习」，「机器学习」，「人工智能」,「Python」。以及 「早起」，「阅读」，「运动」，「英语 」「其他」不定期建群 打卡互助活动。**\n",
    "\n",
    "<center><img src=\"http://upload-images.jianshu.io/upload_images/1157146-cab5ba89dfeeec4b.jpg?imageMogr2/auto-orient/strip%7CimageView2/2/w/1240\"></center>"
   ]
  }
 ],
 "metadata": {
  "kernelspec": {
   "display_name": "Python 3",
   "language": "python",
   "name": "python3"
  },
  "language_info": {
   "codemirror_mode": {
    "name": "ipython",
    "version": 3
   },
   "file_extension": ".py",
   "mimetype": "text/x-python",
   "name": "python",
   "nbconvert_exporter": "python",
   "pygments_lexer": "ipython3",
   "version": "3.5.4"
  }
 },
 "nbformat": 4,
 "nbformat_minor": 2
}
